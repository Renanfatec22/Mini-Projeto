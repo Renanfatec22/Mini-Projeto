{
 "cells": [
  {
   "cell_type": "code",
   "execution_count": 27,
   "id": "fab06de7-6a10-457a-befe-2d265ae3ca26",
   "metadata": {},
   "outputs": [
    {
     "name": "stdout",
     "output_type": "stream",
     "text": [
      "RELATÓRIO DE VENDAS no Mês de AGOSTO/2025\n",
      "Total de vendas do mês: R$ 52,810.00\n",
      "Média diária de vendas: R$ 2,640.50\n",
      "\n",
      "Soma da semana 1: R$ 12,020.00\n",
      "Soma da semana 2: R$ 13,610.00\n",
      "Soma da semana 3: R$ 12,700.00\n",
      "Soma da semana 4: R$ 14,480.00\n",
      "\n",
      "Maior venda:\n",
      "  Data: 29/08/2025 - Valor: R$ 3,400.00\n",
      "Menor venda:\n",
      "  Data: 05/08/2025 - Valor: R$ 1,980.00\n",
      "\n",
      "Pico Mensal:\n",
      "  O pico mensal foi 28.76%\n"
     ]
    }
   ],
   "source": [
    "vendas_agosto = {\n",
    "    \"04/08/2025\": 2350,\n",
    "    \"05/08/2025\": 1980,\n",
    "    \"06/08/2025\": 2540,\n",
    "    \"07/08/2025\": 2100,\n",
    "    \"08/08/2025\": 3050,\n",
    "    \"11/08/2025\": 2650,\n",
    "    \"12/08/2025\": 2180,\n",
    "    \"13/08/2025\": 2760,\n",
    "    \"14/08/2025\": 2920,\n",
    "    \"15/08/2025\": 3100,\n",
    "    \"18/08/2025\": 2300,\n",
    "    \"19/08/2025\": 2430,\n",
    "    \"20/08/2025\": 2210,\n",
    "    \"21/08/2025\": 2790,\n",
    "    \"22/08/2025\": 2970,\n",
    "    \"25/08/2025\": 3100,\n",
    "    \"26/08/2025\": 2880,\n",
    "    \"27/08/2025\": 2600,\n",
    "    \"28/08/2025\": 2500,\n",
    "    \"29/08/2025\": 3400\n",
    "}\n",
    "\n",
    "\n",
    "soma_total = sum(vendas_agosto.values())\n",
    "valores = list(vendas_agosto.values())\n",
    "datas = list(vendas_agosto.keys())\n",
    "semanas = [valores[i:i+5] for i in range(0, len(valores), 5)]\n",
    "somas_semanais = [sum(semana) for semana in semanas]\n",
    "media_mensal = soma_total / len(vendas_agosto)\n",
    "dia_max = max(vendas_agosto, key=vendas_agosto.get)\n",
    "valor_max = vendas_agosto[dia_max]\n",
    "dia_min = min(vendas_agosto, key=vendas_agosto.get)\n",
    "valor_min = vendas_agosto[dia_min]\n",
    "\n",
    "diferenca_percentual = ((valor_max - media_mensal) / media_mensal) * 100\n",
    "\n",
    "print(\"RELATÓRIO DE VENDAS no Mês de AGOSTO/2025\")\n",
    "print(f\"Total de vendas do mês: R$ {soma_total:,.2f}\")\n",
    "print(f\"Média diária de vendas: R$ {media_mensal:,.2f}\\n\")\n",
    "\n",
    "for i, soma in enumerate(somas_semanais, start=1):\n",
    "    print(f\"Soma da semana {i}: R$ {soma:,.2f}\")\n",
    "\n",
    "print(\"\\nMaior venda:\")\n",
    "print(f\"  Data: {dia_max} - Valor: R$ {valor_max:,.2f}\")\n",
    "\n",
    "print(\"Menor venda:\")\n",
    "print(f\"  Data: {dia_min} - Valor: R$ {valor_min:,.2f}\")\n",
    "\n",
    "\n",
    "print(\"\\nPico Mensal:\")\n",
    "print(f\"  O pico mensal foi {diferenca_percentual:.2f}%\")\n",
    "\n",
    "\n",
    "\n",
    "\n",
    "\n",
    "\n",
    "\n"
   ]
  },
  {
   "cell_type": "code",
   "execution_count": null,
   "id": "54d098e0-c7e6-4679-b526-4331976c5e32",
   "metadata": {},
   "outputs": [],
   "source": []
  }
 ],
 "metadata": {
  "kernelspec": {
   "display_name": "Python [conda env:base] *",
   "language": "python",
   "name": "conda-base-py"
  },
  "language_info": {
   "codemirror_mode": {
    "name": "ipython",
    "version": 3
   },
   "file_extension": ".py",
   "mimetype": "text/x-python",
   "name": "python",
   "nbconvert_exporter": "python",
   "pygments_lexer": "ipython3",
   "version": "3.12.7"
  }
 },
 "nbformat": 4,
 "nbformat_minor": 5
}
